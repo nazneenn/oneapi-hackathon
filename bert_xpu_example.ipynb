{
 "cells": [
  {
   "cell_type": "code",
   "execution_count": 1,
   "id": "3bad4b59-c3e9-4e0b-a80b-8db3a91eeb49",
   "metadata": {},
   "outputs": [
    {
     "name": "stderr",
     "output_type": "stream",
     "text": [
      "/home/u105696/.local/lib/python3.10/site-packages/tqdm/auto.py:21: TqdmWarning: IProgress not found. Please update jupyter and ipywidgets. See https://ipywidgets.readthedocs.io/en/stable/user_install.html\n",
      "  from .autonotebook import tqdm as notebook_tqdm\n"
     ]
    }
   ],
   "source": [
    "import torch\n",
    "from transformers import BertModel\n",
    "import numpy as np\n",
    "############# code changes ###############\n",
    "import intel_extension_for_pytorch as ipex\n",
    "\n",
    "############# code changes ###############"
   ]
  },
  {
   "cell_type": "code",
   "execution_count": 2,
   "id": "8a3a37ca-cfe8-4554-a2ca-1044578024fc",
   "metadata": {},
   "outputs": [
    {
     "name": "stdout",
     "output_type": "stream",
     "text": [
      "Inference time for FP32 took 0.115 seconds\n"
     ]
    }
   ],
   "source": [
    "\n",
    "model = BertModel.from_pretrained(\"bert-base-uncased\")\n",
    "model.eval()\n",
    "\n",
    "vocab_size = model.config.vocab_size\n",
    "batch_size = 16\n",
    "seq_length = 512\n",
    "data = torch.randint(vocab_size, size=[batch_size, seq_length])\n",
    "\n",
    "#################### code changes #################\n",
    "model = model.to(\"xpu\")\n",
    "data = data.to(\"xpu\")\n",
    "#################### code changes #################\n",
    "\n",
    "import time\n",
    "num_times = 50\n",
    "warmup_rounds = 20\n",
    "\n",
    "latency_list = []\n",
    "for i in range(num_times):\n",
    "    time_start = time.time()\n",
    "    model(data)\n",
    "    if i >= warmup_rounds:\n",
    "        latency_list.append(time.time() - time_start)\n",
    "\n",
    "fp32_inference_time = np.mean(latency_list)\n",
    "print(\"Inference time for FP32 took %.3f seconds\" %(fp32_inference_time))"
   ]
  },
  {
   "cell_type": "code",
   "execution_count": 3,
   "id": "dcbec71c-8438-4fb1-8f8f-fbb396580f13",
   "metadata": {},
   "outputs": [
    {
     "name": "stderr",
     "output_type": "stream",
     "text": [
      "/home/common/miniconda3/envs/pytorch_xpu/lib/python3.10/site-packages/intel_extension_for_pytorch/frontend.py:484: UserWarning: Split Master Weight feature is not supported on XPU for now, disabled.\n",
      "  warnings.warn(\"Split Master Weight feature is not supported on XPU for now, disabled.\")\n",
      "/home/common/miniconda3/envs/pytorch_xpu/lib/python3.10/site-packages/intel_extension_for_pytorch/frontend.py:494: UserWarning: To reduce device memory usage on XPU, optimization are done inplace, setting the inplace argument to True.\n",
      "  warnings.warn(\n",
      "/home/common/miniconda3/envs/pytorch_xpu/lib/python3.10/site-packages/intel_extension_for_pytorch/frontend.py:500: UserWarning: Weight Prepack and Sample Input are both disabled on XPU. The Onednn Layout is automatically applied.\n",
      "  warnings.warn(\n",
      "/home/common/miniconda3/envs/pytorch_xpu/lib/python3.10/site-packages/intel_extension_for_pytorch/frontend.py:522: UserWarning: Conv BatchNorm folding failed during the optimize process.\n",
      "  warnings.warn(\"Conv BatchNorm folding failed during the optimize process.\")\n",
      "/home/common/miniconda3/envs/pytorch_xpu/lib/python3.10/site-packages/intel_extension_for_pytorch/frontend.py:527: UserWarning: Linear BatchNorm folding failed during the optimize process.\n",
      "  warnings.warn(\"Linear BatchNorm folding failed during the optimize process.\")\n"
     ]
    },
    {
     "name": "stdout",
     "output_type": "stream",
     "text": [
      "Inference time for BF16 took 0.035 seconds\n"
     ]
    }
   ],
   "source": [
    "model = ipex.optimize(model, dtype=torch.bfloat16)\n",
    "latency_list = []\n",
    "with torch.no_grad():\n",
    "    ########################### code changes ########################\n",
    "    with torch.xpu.amp.autocast(enabled=True, dtype=torch.bfloat16):\n",
    "    ########################### code changes ########################\n",
    "        for i in range(num_times):\n",
    "            time_start = time.time()\n",
    "            model(data)\n",
    "            if i >= warmup_rounds:\n",
    "                latency_list.append(time.time() - time_start)\n",
    "\n",
    "bf16_inference_time = np.mean(latency_list)\n",
    "print(\"Inference time for BF16 took %.3f seconds\" %(bf16_inference_time))"
   ]
  },
  {
   "cell_type": "code",
   "execution_count": 4,
   "id": "e5656008-d9c2-44ff-8a54-1470ab52b4e1",
   "metadata": {},
   "outputs": [
    {
     "name": "stdout",
     "output_type": "stream",
     "text": [
      "Inference time for Torchscript took 0.027 seconds\n"
     ]
    }
   ],
   "source": [
    "with torch.no_grad():\n",
    "    d = torch.randint(vocab_size, size=[batch_size, seq_length])\n",
    "    ############################# code changes #####################\n",
    "    d = d.to(\"xpu\")\n",
    "    with torch.xpu.amp.autocast(enabled=True, dtype=torch.bfloat16):\n",
    "    ############################# code changes #####################\n",
    "        model = torch.jit.trace(model, (d,), strict=False)\n",
    "        model = torch.jit.freeze(model)\n",
    "        latency_list = []\n",
    "        for i in range(num_times):\n",
    "            time_start = time.time()\n",
    "            model(data)\n",
    "            if i >= warmup_rounds:\n",
    "                latency_list.append(time.time() - time_start)\n",
    "\n",
    "torchscript_inference_time = np.mean(latency_list)\n",
    "print(\"Inference time for Torchscript took %.3f seconds\" %(torchscript_inference_time))"
   ]
  },
  {
   "cell_type": "code",
   "execution_count": 5,
   "id": "0cc7e4c2-1497-455d-a9e5-1d3714967e11",
   "metadata": {},
   "outputs": [],
   "source": [
    "\"\"\"\n",
    "Prints out results and displays figures summarizing output.\n",
    "\"\"\"\n",
    "NUM_SAMPLES = batch_size\n",
    "def summarize_results(modelName=\"\", results=None):\n",
    "    \"\"\"\n",
    "    Input parameters\n",
    "        modelName: a str representing the name of the model\n",
    "        results: a dict with the run case and its corresponding time in seconds\n",
    "    Return value\n",
    "        None\n",
    "    \"\"\"\n",
    "\n",
    "    # Inference time results\n",
    "    print(\"\\nSummary for %s (%d samples)\" %(modelName, NUM_SAMPLES))\n",
    "    for key in results.keys():\n",
    "        print(\"%s inference time: %.3f seconds\" %(key, results[key]))\n",
    "\n",
    "    # Create bar chart with inference time results\n",
    "    plt.figure()\n",
    "    plt.title(\"%s Inference Time (%d samples)\" %(modelName, NUM_SAMPLES))\n",
    "    plt.xlabel(\"Run Case\")\n",
    "    plt.ylabel(\"Inference Time (seconds)\")\n",
    "    plt.bar(results.keys(), results.values())\n",
    "\n",
    "    # Calculate speedup when using AMX\n",
    "    print(\"\\n\")\n",
    "    bf16_speedup = results[\"FP32\"] / results[\"BF16\"]\n",
    "    print(\"BF16 with AMX is %.2fX faster than FP32\" %bf16_speedup)\n",
    "    torchscript_speedup = results[\"FP32\"] / results[\"TorchScript\"]\n",
    "    print(\"Torchscript is %.2fX faster than FP32\" %torchscript_speedup)\n",
    "    print(\"\\n\\n\")\n",
    "\n",
    "    # Create bar chart with speedup results\n",
    "    plt.figure()\n",
    "    plt.title(\"%s AMX BF16 Speedup over FP32\" %modelName)\n",
    "    plt.xlabel(\"Run Case\")\n",
    "    plt.ylabel(\"Speedup\")\n",
    "    plt.bar(results.keys(), \n",
    "        [1, bf16_speedup, torchscript_speedup]\n",
    "    )"
   ]
  },
  {
   "cell_type": "code",
   "execution_count": 6,
   "id": "e4195d37-034e-49f1-853b-00c54e8c500c",
   "metadata": {},
   "outputs": [
    {
     "name": "stdout",
     "output_type": "stream",
     "text": [
      "Defaulting to user installation because normal site-packages is not writeable\n",
      "Requirement already satisfied: matplotlib in /home/u105696/.local/lib/python3.10/site-packages (3.8.0)\n",
      "Requirement already satisfied: numpy<2,>=1.21 in /home/common/miniconda3/envs/pytorch_xpu/lib/python3.10/site-packages (from matplotlib) (1.24.3)\n",
      "Requirement already satisfied: cycler>=0.10 in /home/u105696/.local/lib/python3.10/site-packages (from matplotlib) (0.11.0)\n",
      "Requirement already satisfied: fonttools>=4.22.0 in /home/u105696/.local/lib/python3.10/site-packages (from matplotlib) (4.42.1)\n",
      "Requirement already satisfied: contourpy>=1.0.1 in /home/u105696/.local/lib/python3.10/site-packages (from matplotlib) (1.1.1)\n",
      "Requirement already satisfied: packaging>=20.0 in /home/common/miniconda3/envs/pytorch_xpu/lib/python3.10/site-packages (from matplotlib) (23.1)\n",
      "Requirement already satisfied: pyparsing>=2.3.1 in /home/u105696/.local/lib/python3.10/site-packages (from matplotlib) (3.1.1)\n",
      "Requirement already satisfied: python-dateutil>=2.7 in /home/common/miniconda3/envs/pytorch_xpu/lib/python3.10/site-packages (from matplotlib) (2.8.2)\n",
      "Requirement already satisfied: pillow>=6.2.0 in /home/u105696/.local/lib/python3.10/site-packages (from matplotlib) (10.0.0)\n",
      "Requirement already satisfied: kiwisolver>=1.0.1 in /home/u105696/.local/lib/python3.10/site-packages (from matplotlib) (1.4.5)\n",
      "Requirement already satisfied: six>=1.5 in /home/common/miniconda3/envs/pytorch_xpu/lib/python3.10/site-packages (from python-dateutil>=2.7->matplotlib) (1.16.0)\n",
      "\n",
      "Summary for BERT (16 samples)\n",
      "FP32 inference time: 0.115 seconds\n",
      "BF16 inference time: 0.035 seconds\n",
      "TorchScript inference time: 0.027 seconds\n",
      "\n",
      "\n",
      "BF16 with AMX is 3.27X faster than FP32\n",
      "Torchscript is 4.31X faster than FP32\n",
      "\n",
      "\n",
      "\n"
     ]
    },
    {
     "data": {
      "image/png": "[encoded data removed]",
      "text/plain": [
       "<Figure size 640x480 with 1 Axes>"
      ]
     },
     "metadata": {},
     "output_type": "display_data"
    },
    {
     "data": {
      "image/png": "[encoded data removed]",
      "text/plain": [
       "<Figure size 640x480 with 1 Axes>"
      ]
     },
     "metadata": {},
     "output_type": "display_data"
    }
   ],
   "source": [
    "# Summarize and display results\n",
    "!pip install matplotlib\n",
    "import matplotlib.pyplot as plt\n",
    "results_bert = {\n",
    "        \"FP32\": fp32_inference_time,\n",
    "        \"BF16\": bf16_inference_time,\n",
    "        \"TorchScript\": torchscript_inference_time\n",
    "    }\n",
    "summarize_results(\"BERT\", results_bert)\n",
    "plt.show()"
   ]
  }
 ],
 "metadata": {
  "kernelspec": {
   "display_name": "Python 3 (ipykernel)",
   "language": "python",
   "name": "python3"
  },
  "language_info": {
   "codemirror_mode": {
    "name": "ipython",
    "version": 3
   },
   "file_extension": ".py",
   "mimetype": "text/x-python",
   "name": "python",
   "nbconvert_exporter": "python",
   "pygments_lexer": "ipython3",
   "version": "3.10.11"
  }
 },
 "nbformat": 4,
 "nbformat_minor": 5
}
