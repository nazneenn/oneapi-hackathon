{
 "cells": [
  {
   "cell_type": "code",
   "execution_count": 1,
   "id": "693a91ff-5382-4add-86df-c15d04bbb1b7",
   "metadata": {},
   "outputs": [
    {
     "name": "stderr",
     "output_type": "stream",
     "text": [
      "/home/u105696/.local/lib/python3.10/site-packages/tqdm/auto.py:21: TqdmWarning: IProgress not found. Please update jupyter and ipywidgets. See https://ipywidgets.readthedocs.io/en/stable/user_install.html\n",
      "  from .autonotebook import tqdm as notebook_tqdm\n"
     ]
    }
   ],
   "source": [
    "import torch\n",
    "from transformers import BertModel\n",
    "import numpy as np\n",
    "import time\n",
    "\n",
    "############# code changes ###############\n",
    "import intel_extension_for_pytorch as ipex\n",
    "############# code changes ###############"
   ]
  },
  {
   "cell_type": "code",
   "execution_count": 2,
   "id": "b6967373-09ec-434d-9dfc-797863eba55e",
   "metadata": {},
   "outputs": [
    {
     "name": "stdout",
     "output_type": "stream",
     "text": [
      "torch.Size([16, 512])\n",
      "Inference time for FP32 took 0.662 seconds\n"
     ]
    }
   ],
   "source": [
    "model = BertModel.from_pretrained(\"bert-base-uncased\")\n",
    "model.eval()\n",
    "\n",
    "vocab_size = model.config.vocab_size\n",
    "batch_size = 16\n",
    "seq_length = 512\n",
    "\n",
    "data = torch.randint(vocab_size, size=[batch_size, seq_length])\n",
    "print(data.size())\n",
    "\n",
    "num_times = 50\n",
    "warmup_rounds = 20\n",
    "latency_list = []\n",
    "\n",
    "for i in range(num_times):\n",
    "    time_start = time.time()\n",
    "    model(data)\n",
    "    if i >= warmup_rounds:\n",
    "        latency_list.append(time.time() - time_start)\n",
    "\n",
    "fp32_inference_time = np.mean(latency_list)\n",
    "print(\"Inference time for FP32 took %.3f seconds\" %(fp32_inference_time))\n"
   ]
  },
  {
   "cell_type": "code",
   "execution_count": 3,
   "id": "79f8948e-0972-40a3-8e0d-d3a3feb4ba49",
   "metadata": {},
   "outputs": [
    {
     "name": "stderr",
     "output_type": "stream",
     "text": [
      "/home/common/miniconda3/envs/pytorch_xpu/lib/python3.10/site-packages/intel_extension_for_pytorch/frontend.py:522: UserWarning: Conv BatchNorm folding failed during the optimize process.\n",
      "  warnings.warn(\"Conv BatchNorm folding failed during the optimize process.\")\n",
      "/home/common/miniconda3/envs/pytorch_xpu/lib/python3.10/site-packages/intel_extension_for_pytorch/frontend.py:527: UserWarning: Linear BatchNorm folding failed during the optimize process.\n",
      "  warnings.warn(\"Linear BatchNorm folding failed during the optimize process.\")\n"
     ]
    },
    {
     "name": "stdout",
     "output_type": "stream",
     "text": [
      "Inference time for BF16 took 0.144 seconds\n"
     ]
    }
   ],
   "source": [
    "#################### code changes ####################  \n",
    "model_bf16 = ipex.optimize(model, dtype=torch.bfloat16)\n",
    "#model = ipex._optimize_transformers(model.eval(), dtype=torch.bfloat16, inplace=True)\n",
    "######################################################  \n",
    "latency_list = []\n",
    "with torch.no_grad(), torch.cpu.amp.autocast():\n",
    "    for i in range(num_times):\n",
    "        time_start = time.time()\n",
    "        model_bf16(data)\n",
    "        if i >= warmup_rounds:\n",
    "            latency_list.append(time.time() - time_start)\n",
    "\n",
    "bf16_inference_time = np.mean(latency_list)\n",
    "print(\"Inference time for BF16 took %.3f seconds\" %(bf16_inference_time))"
   ]
  },
  {
   "cell_type": "code",
   "execution_count": 4,
   "id": "934c06f6-1b7e-497b-9c87-9369c5e3d05a",
   "metadata": {},
   "outputs": [
    {
     "name": "stdout",
     "output_type": "stream",
     "text": [
      "Inference time for Torchscript took 0.107 seconds\n",
      "Execution finished\n"
     ]
    }
   ],
   "source": [
    "with torch.no_grad(), torch.cpu.amp.autocast():\n",
    "    d = torch.randint(vocab_size, size=[batch_size, seq_length])\n",
    "    model = torch.jit.trace(model_bf16, (d,), check_trace=False, strict=False)\n",
    "    model = torch.jit.freeze(model)\n",
    "    latency_list = []\n",
    "    for i in range(num_times):\n",
    "        time_start = time.time()\n",
    "        model(data)\n",
    "        if i >= warmup_rounds:\n",
    "            latency_list.append(time.time() - time_start)\n",
    "\n",
    "torchscript_inference_time = np.mean(latency_list)\n",
    "print(\"Inference time for Torchscript took %.3f seconds\" %(torchscript_inference_time))\n",
    "print(\"Execution finished\")"
   ]
  },
  {
   "cell_type": "code",
   "execution_count": 12,
   "id": "73b43c65-cbf2-4e96-9bc1-5974bf0616ab",
   "metadata": {},
   "outputs": [],
   "source": [
    "\"\"\"\n",
    "Prints out results and displays figures summarizing output.\n",
    "\"\"\"\n",
    "NUM_SAMPLES = batch_size\n",
    "def summarize_results(modelName=\"\", results=None):\n",
    "    \"\"\"\n",
    "    Input parameters\n",
    "        modelName: a str representing the name of the model\n",
    "        results: a dict with the run case and its corresponding time in seconds\n",
    "    Return value\n",
    "        None\n",
    "    \"\"\"\n",
    "\n",
    "    # Inference time results\n",
    "    print(\"\\nSummary for %s (%d samples)\" %(modelName, NUM_SAMPLES))\n",
    "    for key in results.keys():\n",
    "        print(\"%s inference time: %.3f seconds\" %(key, results[key]))\n",
    "\n",
    "    # Create bar chart with inference time results\n",
    "    plt.figure()\n",
    "    plt.title(\"%s Inference Time (%d samples)\" %(modelName, NUM_SAMPLES))\n",
    "    plt.xlabel(\"Run Case\")\n",
    "    plt.ylabel(\"Inference Time (seconds)\")\n",
    "    plt.bar(results.keys(), results.values())\n",
    "\n",
    "    # Calculate speedup when using AMX\n",
    "    print(\"\\n\")\n",
    "    bf16_speedup = results[\"FP32\"] / results[\"BF16\"]\n",
    "    print(\"BF16 with AMX is %.2fX faster than FP32\" %bf16_speedup)\n",
    "    torchscript_speedup = results[\"FP32\"] / results[\"TorchScript\"]\n",
    "    print(\"Torchscript is %.2fX faster than FP32\" %torchscript_speedup)\n",
    "    print(\"\\n\\n\")\n",
    "\n",
    "    # Create bar chart with speedup results\n",
    "    plt.figure()\n",
    "    plt.title(\"%s AMX BF16 Speedup over FP32\" %modelName)\n",
    "    plt.xlabel(\"Run Case\")\n",
    "    plt.ylabel(\"Speedup\")\n",
    "    plt.bar(results.keys(), \n",
    "        [1, bf16_speedup, torchscript_speedup]\n",
    "    )"
   ]
  },
  {
   "cell_type": "code",
   "execution_count": 13,
   "id": "b713abba-a886-4610-af6f-aa3e501c66b9",
   "metadata": {},
   "outputs": [
    {
     "name": "stdout",
     "output_type": "stream",
     "text": [
      "Defaulting to user installation because normal site-packages is not writeable\n",
      "Requirement already satisfied: matplotlib in /home/u105696/.local/lib/python3.10/site-packages (3.8.0)\n",
      "Requirement already satisfied: python-dateutil>=2.7 in /home/common/miniconda3/envs/pytorch_xpu/lib/python3.10/site-packages (from matplotlib) (2.8.2)\n",
      "Requirement already satisfied: packaging>=20.0 in /home/common/miniconda3/envs/pytorch_xpu/lib/python3.10/site-packages (from matplotlib) (23.1)\n",
      "Requirement already satisfied: pillow>=6.2.0 in /home/u105696/.local/lib/python3.10/site-packages (from matplotlib) (10.0.0)\n",
      "Requirement already satisfied: pyparsing>=2.3.1 in /home/u105696/.local/lib/python3.10/site-packages (from matplotlib) (3.1.1)\n",
      "Requirement already satisfied: fonttools>=4.22.0 in /home/u105696/.local/lib/python3.10/site-packages (from matplotlib) (4.42.1)\n",
      "Requirement already satisfied: cycler>=0.10 in /home/u105696/.local/lib/python3.10/site-packages (from matplotlib) (0.11.0)\n",
      "Requirement already satisfied: contourpy>=1.0.1 in /home/u105696/.local/lib/python3.10/site-packages (from matplotlib) (1.1.1)\n",
      "Requirement already satisfied: kiwisolver>=1.0.1 in /home/u105696/.local/lib/python3.10/site-packages (from matplotlib) (1.4.5)\n",
      "Requirement already satisfied: numpy<2,>=1.21 in /home/common/miniconda3/envs/pytorch_xpu/lib/python3.10/site-packages (from matplotlib) (1.24.3)\n",
      "Requirement already satisfied: six>=1.5 in /home/common/miniconda3/envs/pytorch_xpu/lib/python3.10/site-packages (from python-dateutil>=2.7->matplotlib) (1.16.0)\n",
      "\n",
      "Summary for BERT (16 samples)\n",
      "FP32 inference time: 0.662 seconds\n",
      "BF16 inference time: 0.144 seconds\n",
      "TorchScript inference time: 0.107 seconds\n",
      "\n",
      "\n",
      "BF16 with AMX is 4.59X faster than FP32\n",
      "Torchscript is 6.18X faster than FP32\n",
      "\n",
      "\n",
      "\n"
     ]
    },
    {
     "data": {
      "image/png": "[encoded data removed]",
      "text/plain": [
       "<Figure size 640x480 with 1 Axes>"
      ]
     },
     "metadata": {},
     "output_type": "display_data"
    },
    {
     "data": {
      "image/png": "[encoded data removed]",
      "text/plain": [
       "<Figure size 640x480 with 1 Axes>"
      ]
     },
     "metadata": {},
     "output_type": "display_data"
    }
   ],
   "source": [
    "# Summarize and display results\n",
    "!pip install matplotlib\n",
    "import matplotlib.pyplot as plt\n",
    "results_bert = {\n",
    "        \"FP32\": fp32_inference_time,\n",
    "        \"BF16\": bf16_inference_time,\n",
    "        \"TorchScript\": torchscript_inference_time\n",
    "    }\n",
    "summarize_results(\"BERT\", results_bert)\n",
    "plt.show()"
   ]
  },
  {
   "cell_type": "code",
   "execution_count": null,
   "id": "60838122-28fa-4328-b758-c32ca3302062",
   "metadata": {},
   "outputs": [],
   "source": []
  }
 ],
 "metadata": {
  "kernelspec": {
   "display_name": "Python 3 (ipykernel)",
   "language": "python",
   "name": "python3"
  },
  "language_info": {
   "codemirror_mode": {
    "name": "ipython",
    "version": 3
   },
   "file_extension": ".py",
   "mimetype": "text/x-python",
   "name": "python",
   "nbconvert_exporter": "python",
   "pygments_lexer": "ipython3",
   "version": "3.10.11"
  }
 },
 "nbformat": 4,
 "nbformat_minor": 5
}
